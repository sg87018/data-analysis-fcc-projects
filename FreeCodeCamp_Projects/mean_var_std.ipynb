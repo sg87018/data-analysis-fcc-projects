{
 "cells": [
  {
   "cell_type": "code",
   "execution_count": 3,
   "metadata": {},
   "outputs": [
    {
     "name": "stdout",
     "output_type": "stream",
     "text": [
      "{'mean': [(array([3., 4., 5.]), array([1., 4., 7.]), 4.0)], 'variance': [(array([6., 6., 6.]), array([0.66666667, 0.66666667, 0.66666667]), 6.666666666666667)], 'standard deviation': [(array([2.44948974, 2.44948974, 2.44948974]), array([0.81649658, 0.81649658, 0.81649658]), 2.581988897471611)], 'max': [(array([6, 7, 8]), array([2, 5, 8]), 8)], 'min': [(array([0, 1, 2]), array([0, 3, 6]), 0)], 'sum': [(array([ 9, 12, 15]), array([ 3, 12, 21]), 36)]}\n"
     ]
    }
   ],
   "source": [
    "import numpy as np\n",
    "\n",
    "def calculate(list):\n",
    "    list_to_array = np.array(list).reshape(3,3)\n",
    "    if len(list) != 9:\n",
    "        raise ValueError('List must contain nine numbers.')\n",
    "    flat_arr = np.ravel(list_to_array)\n",
    "    mean = np.mean(list_to_array, axis=0), np.mean(list_to_array,axis=1), np.mean(flat_arr)\n",
    "    variance = np.var(list_to_array, axis=0), np.var(list_to_array,axis=1), np.var(flat_arr)\n",
    "    std_dev = np.std(list_to_array, axis=0), np.std(list_to_array,axis=1), np.std(flat_arr)\n",
    "    max = np.max(list_to_array, axis=0), np.max(list_to_array,axis=1), np.max(flat_arr)\n",
    "    min = np.min(list_to_array, axis=0), np.min(list_to_array,axis=1), np.min(flat_arr)\n",
    "    sum = np.sum(list_to_array, axis=0), np.sum(list_to_array,axis=1), np.sum(flat_arr)\n",
    "\n",
    "    calculations = {\n",
    "        'mean': [mean],\n",
    "        'variance': [variance],\n",
    "        'standard deviation': [std_dev],\n",
    "        'max': [max],\n",
    "        'min': [min],\n",
    "        'sum': [sum]\n",
    "    }\n",
    "    return calculations\n",
    "\n",
    "new_list = [0,1,2,3,4,5,6,7,8]\n",
    "print(calculate(new_list))"
   ]
  }
 ],
 "metadata": {
  "kernelspec": {
   "display_name": "Python 3",
   "language": "python",
   "name": "python3"
  },
  "language_info": {
   "codemirror_mode": {
    "name": "ipython",
    "version": 3
   },
   "file_extension": ".py",
   "mimetype": "text/x-python",
   "name": "python",
   "nbconvert_exporter": "python",
   "pygments_lexer": "ipython3",
   "version": "3.8.6"
  },
  "orig_nbformat": 4
 },
 "nbformat": 4,
 "nbformat_minor": 2
}
